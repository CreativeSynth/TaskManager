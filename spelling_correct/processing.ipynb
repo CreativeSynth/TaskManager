{
 "cells": [
  {
   "cell_type": "code",
   "execution_count": 23,
   "metadata": {},
   "outputs": [],
   "source": [
    "import pandas as pd\n",
    "from hanspell import spell_checker\n",
    "from tqdm import tqdm\n",
    "import time"
   ]
  },
  {
   "cell_type": "code",
   "execution_count": 2,
   "metadata": {},
   "outputs": [],
   "source": [
    "data = pd.read_csv(\"spelling_correct.csv\", engine=\"python\")"
   ]
  },
  {
   "cell_type": "code",
   "execution_count": 3,
   "metadata": {},
   "outputs": [
    {
     "data": {
      "text/html": [
       "<div>\n",
       "<style scoped>\n",
       "    .dataframe tbody tr th:only-of-type {\n",
       "        vertical-align: middle;\n",
       "    }\n",
       "\n",
       "    .dataframe tbody tr th {\n",
       "        vertical-align: top;\n",
       "    }\n",
       "\n",
       "    .dataframe thead th {\n",
       "        text-align: right;\n",
       "    }\n",
       "</style>\n",
       "<table border=\"1\" class=\"dataframe\">\n",
       "  <thead>\n",
       "    <tr style=\"text-align: right;\">\n",
       "      <th></th>\n",
       "      <th>task_name</th>\n",
       "      <th>index</th>\n",
       "      <th>prompt</th>\n",
       "      <th>answer</th>\n",
       "      <th>attribute</th>\n",
       "    </tr>\n",
       "  </thead>\n",
       "  <tbody>\n",
       "    <tr>\n",
       "      <th>0</th>\n",
       "      <td>spelling_correct</td>\n",
       "      <td>4664</td>\n",
       "      <td>내가 다음에 제공하는 문장의 맞춤법을 교정한 후 전체 문장을 [ ] 로 감싸서 출력...</td>\n",
       "      <td>저는 춤추는 것을 좋아하고 잘 해서 취미로 춤을 춥니다. 춤을 추면 나의 몸을 노래...</td>\n",
       "      <td>설명글</td>\n",
       "    </tr>\n",
       "    <tr>\n",
       "      <th>1</th>\n",
       "      <td>spelling_correct</td>\n",
       "      <td>9300</td>\n",
       "      <td>내가 다음에 제공하는 문장의 맞춤법을 교정한 후 전체 문장을 [ ] 로 감싸서 출력...</td>\n",
       "      <td>하면 안 됩니다. 지구가 없으면 살지 못합니다. 우주로 가더라도 10년은 더 기다려...</td>\n",
       "      <td>주장</td>\n",
       "    </tr>\n",
       "    <tr>\n",
       "      <th>2</th>\n",
       "      <td>spelling_correct</td>\n",
       "      <td>10466</td>\n",
       "      <td>내가 다음에 제공하는 문장의 맞춤법을 교정한 후 전체 문장을 [ ] 로 감싸서 출력...</td>\n",
       "      <td>과학이 발달하면서 생활은 편리해졌다. 하지만 과학이 발달되면서 지구가 파괴되어 지구...</td>\n",
       "      <td>주장</td>\n",
       "    </tr>\n",
       "    <tr>\n",
       "      <th>3</th>\n",
       "      <td>spelling_correct</td>\n",
       "      <td>7592</td>\n",
       "      <td>내가 다음에 제공하는 문장의 맞춤법을 교정한 후 전체 문장을 [ ] 로 감싸서 출력...</td>\n",
       "      <td>안녕하세요 저는 5학년 학생입니다. 위생을 지키는 방법을 소개해 드리겠습니다. 1....</td>\n",
       "      <td>설명글</td>\n",
       "    </tr>\n",
       "    <tr>\n",
       "      <th>4</th>\n",
       "      <td>spelling_correct</td>\n",
       "      <td>9830</td>\n",
       "      <td>내가 다음에 제공하는 문장의 맞춤법을 교정한 후 전체 문장을 [ ] 로 감싸서 출력...</td>\n",
       "      <td>피부색을 보고 차별하지 않는 노력이 필요하다. 일단 다문화여서 피부색이 달라도 더럽...</td>\n",
       "      <td>주장</td>\n",
       "    </tr>\n",
       "  </tbody>\n",
       "</table>\n",
       "</div>"
      ],
      "text/plain": [
       "          task_name  index                                             prompt  \\\n",
       "0  spelling_correct   4664  내가 다음에 제공하는 문장의 맞춤법을 교정한 후 전체 문장을 [ ] 로 감싸서 출력...   \n",
       "1  spelling_correct   9300  내가 다음에 제공하는 문장의 맞춤법을 교정한 후 전체 문장을 [ ] 로 감싸서 출력...   \n",
       "2  spelling_correct  10466  내가 다음에 제공하는 문장의 맞춤법을 교정한 후 전체 문장을 [ ] 로 감싸서 출력...   \n",
       "3  spelling_correct   7592  내가 다음에 제공하는 문장의 맞춤법을 교정한 후 전체 문장을 [ ] 로 감싸서 출력...   \n",
       "4  spelling_correct   9830  내가 다음에 제공하는 문장의 맞춤법을 교정한 후 전체 문장을 [ ] 로 감싸서 출력...   \n",
       "\n",
       "                                              answer attribute  \n",
       "0  저는 춤추는 것을 좋아하고 잘 해서 취미로 춤을 춥니다. 춤을 추면 나의 몸을 노래...       설명글  \n",
       "1  하면 안 됩니다. 지구가 없으면 살지 못합니다. 우주로 가더라도 10년은 더 기다려...        주장  \n",
       "2  과학이 발달하면서 생활은 편리해졌다. 하지만 과학이 발달되면서 지구가 파괴되어 지구...        주장  \n",
       "3  안녕하세요 저는 5학년 학생입니다. 위생을 지키는 방법을 소개해 드리겠습니다. 1....       설명글  \n",
       "4  피부색을 보고 차별하지 않는 노력이 필요하다. 일단 다문화여서 피부색이 달라도 더럽...        주장  "
      ]
     },
     "execution_count": 3,
     "metadata": {},
     "output_type": "execute_result"
    }
   ],
   "source": [
    "for i in tqdm(range(len(data))):\n",
    "    prompt = data[\"prompt\"][i][50:]\n",
    "    answer = \"err\"\n",
    "    cnt = 0\n",
    "    while(cnt < 9):\n",
    "        try:\n",
    "            answer = spell_checker.check([prompt])[0].checked\n",
    "            break\n",
    "        except:\n",
    "            cnt+=1\n",
    "            time.sleep(0.1)\n",
    "            print(f\"errr on {prompt}\")\n",
    "    data[i][\"attribute\"] = answer"
   ]
  },
  {
   "cell_type": "code",
   "execution_count": 22,
   "metadata": {},
   "outputs": [
    {
     "data": {
      "text/plain": [
       "'하면 안됩니다. 지구가 없으면 살지 못 합니다. 우주로 가더라도 10년은 더기다려야 합니다. 그리고 옛날에는 TV 핸드폰 없이 잘 살았습니다. 핸드폰이 있으면 안심심 하긴 하지만 지구가 없으면 핸드폰도 못합니다. 일단은 지구를 지키고 생각 해야 합니다. 지금 이미 지구는 온난화가 왔습니다. 그로인에 생명도 죽고 있습니다. 심심 하더라도 안전 해야 합니다. 만약지구가 없어지면 저희도 없어질수 있습니다. 저희만 살고 끝낼수 없습니다. 자식 한테도 이세상을 보여줘야 되지 않습니까? 저는 과학 발전을 멈춰야 되는 이유입니다!'"
      ]
     },
     "execution_count": 22,
     "metadata": {},
     "output_type": "execute_result"
    }
   ],
   "source": [
    "data[\"prompt\"][1][50:]"
   ]
  },
  {
   "cell_type": "code",
   "execution_count": 26,
   "metadata": {},
   "outputs": [
    {
     "name": "stdout",
     "output_type": "stream",
     "text": [
      "Differences:\n",
      " - 안녕 하세요\n",
      "?   -\n",
      "\n",
      "+ 안녕하세요\n"
     ]
    }
   ],
   "source": [
    "import difflib\n",
    "\n",
    "def string_diff_checker(string1, string2):\n",
    "    d = difflib.Differ()\n",
    "    diff = d.compare(string1.splitlines(), string2.splitlines())\n",
    "    return '\\n'.join(diff)\n",
    "\n",
    "\n",
    "# Example usage\n",
    "string1 = \"\"\"This is the first string.\n",
    "It has some differences.\"\"\"\n",
    "\n",
    "string2 = \"\"\"This is the second string.\n",
    "It has some changes.\"\"\"\n",
    "\n",
    "differences = string_diff_checker(\"안녕 하세요\", \"안녕하세요\")\n",
    "print(\"Differences:\\n\", differences)"
   ]
  },
  {
   "cell_type": "code",
   "execution_count": 25,
   "metadata": {},
   "outputs": [
    {
     "data": {
      "text/plain": [
       "'- This is the first string.\\n?             --- ^\\n\\n+ This is the second string.\\n?              ^^^^^\\n\\n- It has some differences.\\n+ It has some changes.'"
      ]
     },
     "execution_count": 25,
     "metadata": {},
     "output_type": "execute_result"
    }
   ],
   "source": [
    "differences"
   ]
  }
 ],
 "metadata": {
  "kernelspec": {
   "display_name": "creative",
   "language": "python",
   "name": "python3"
  },
  "language_info": {
   "codemirror_mode": {
    "name": "ipython",
    "version": 3
   },
   "file_extension": ".py",
   "mimetype": "text/x-python",
   "name": "python",
   "nbconvert_exporter": "python",
   "pygments_lexer": "ipython3",
   "version": "3.9.18"
  },
  "orig_nbformat": 4
 },
 "nbformat": 4,
 "nbformat_minor": 2
}
